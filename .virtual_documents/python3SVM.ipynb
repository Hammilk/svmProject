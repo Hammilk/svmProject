import pandas as pd
import numpy as np
from sklearn.impute import SimpleImputer


path = "~/Dev/pythonProjects/svmProject/gas_sensor_data.csv"
df = pd.read_csv(path)
print(df.head())



