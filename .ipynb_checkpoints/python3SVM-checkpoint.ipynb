{
 "cells": [
  {
   "cell_type": "code",
   "execution_count": 2,
   "id": "863a75fd-dc6f-4e08-b29e-e90d2274d98d",
   "metadata": {},
   "outputs": [],
   "source": [
    "import pandas as pd\n",
    "import numpy as np\n",
    "from sklearn.impute import SimpleImputer"
   ]
  },
  {
   "cell_type": "code",
   "execution_count": 3,
   "id": "a4ab9882-d656-4f79-9fe3-91a1b9764649",
   "metadata": {},
   "outputs": [
    {
     "name": "stdout",
     "output_type": "stream",
     "text": [
      "   Batch ID     gas_label  concentration   feature_1  feature_2  feature_3  \\\n",
      "0         8  Acetaldehyde           30.0  12714.6680   2.126732   2.778869   \n",
      "1         8  Acetaldehyde          100.0  13124.5372   4.428956   2.751767   \n",
      "2         2  Acetaldehyde           50.0   4108.0312   1.333074   0.829559   \n",
      "3         8  Acetaldehyde          160.0  16628.4727   4.613198   3.810110   \n",
      "4         8  Acetaldehyde          140.0   2200.3432   1.623948   3.542865   \n",
      "\n",
      "   feature_4  feature_5  feature_6  feature_7  ...  feature_119  feature_120  \\\n",
      "0   4.366970  10.349759  -2.423530  -3.698281  ...    -7.367909   -14.910881   \n",
      "1   3.913745   7.155696  -1.918129  -2.801819  ...    -6.589560   -14.889079   \n",
      "2   1.388662   5.364651  -2.067825  -2.985018  ...    -1.595453    -4.341344   \n",
      "3   5.434378   9.842276  -2.391345  -3.433294  ...   -10.068741   -18.506467   \n",
      "4   4.926199   8.524922  -1.817719  -5.283235  ...    -8.718727   -18.497095   \n",
      "\n",
      "   feature_121  feature_122  feature_123  feature_124  feature_125  \\\n",
      "0   16436.4448     3.525865     5.444746     9.330127    12.652249   \n",
      "1   15152.9204     3.743802     4.939513     9.005830    12.426788   \n",
      "2    3706.8189     2.055053     1.347179     3.042470     5.932224   \n",
      "3   21917.9185     5.903987     7.237903    12.190622    15.206738   \n",
      "4   19328.4956     4.638023     6.248198    11.061870    14.352634   \n",
      "\n",
      "   feature_126  feature_127  feature_128  \n",
      "0    -4.072191    -6.565401   -12.660073  \n",
      "1    -3.610760    -5.651032   -11.601161  \n",
      "2    -0.872665    -1.450595    -4.131882  \n",
      "3    -5.298896    -8.531995   -15.204754  \n",
      "4    -4.716649    -7.755365   -13.968740  \n",
      "\n",
      "[5 rows x 131 columns]\n"
     ]
    }
   ],
   "source": [
    "path = \"~/Dev/pythonProjects/svmProject/gas_sensor_data.csv\"\n",
    "df = pd.read_csv(path)\n",
    "print(df.head())"
   ]
  },
  {
   "cell_type": "code",
   "execution_count": null,
   "id": "c63d5bd4-953f-401a-b8a8-0a4081276515",
   "metadata": {},
   "outputs": [],
   "source": []
  }
 ],
 "metadata": {
  "kernelspec": {
   "display_name": "Python 3 (ipykernel)",
   "language": "python",
   "name": "python3"
  },
  "language_info": {
   "codemirror_mode": {
    "name": "ipython",
    "version": 3
   },
   "file_extension": ".py",
   "mimetype": "text/x-python",
   "name": "python",
   "nbconvert_exporter": "python",
   "pygments_lexer": "ipython3",
   "version": "3.12.4"
  }
 },
 "nbformat": 4,
 "nbformat_minor": 5
}
