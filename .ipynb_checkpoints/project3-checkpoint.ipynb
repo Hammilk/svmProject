{
 "cells": [
  {
   "cell_type": "code",
   "execution_count": null,
   "id": "88699736",
   "metadata": {},
   "outputs": [],
   "source": [
    "import pandas as pd\n",
    "import numpy as np\n",
    "import os\n",
    "from sklearn.impute import SimpleImputer\n",
    "from sklearn.metrics import classification_report\n",
    "from sklearn.model_selection import train_test_split\n",
    "from sklearn.preprocessing import StandardScaler\n",
    "from imblearn.over_sampling import SMOTE\n",
    "from sklearn.preprocessing import LabelEncoder\n",
    "from sklearn import svm\n",
    "from feature_engine.selection import DropCorrelatedFeatures\n",
    "from sklearn.model_selection import GridSearchCV"
   ]
  },
  {
   "cell_type": "code",
   "execution_count": null,
   "id": "692b5250",
   "metadata": {},
   "outputs": [],
   "source": [
    "relative_path = os.path.join('gas_sensor_data.csv')\n",
    "df = pd.read_csv(relative_path)"
   ]
  },
  {
   "cell_type": "code",
   "execution_count": null,
   "id": "98348cfa",
   "metadata": {
    "lines_to_next_cell": 2
   },
   "outputs": [],
   "source": [
    "#Split dataframe into X, Y\n",
    "y = pd.DataFrame(df['gas_label'])\n",
    "y_columns = y.columns\n",
    "x_temp = df.drop(['gas_label'], axis = 1)\n",
    "x = x_temp.drop(['Batch ID'], axis = 1)\n",
    "x_columns = x.columns"
   ]
  },
  {
   "cell_type": "code",
   "execution_count": null,
   "id": "d4b0edb5",
   "metadata": {},
   "outputs": [],
   "source": [
    "#Smote class resampling\n",
    "y_np = np.array(y)\n",
    "y_np = y_np.ravel()\n",
    "x_np = np.array(x)"
   ]
  },
  {
   "cell_type": "code",
   "execution_count": null,
   "id": "ab49017b",
   "metadata": {},
   "outputs": [],
   "source": [
    "#Handle Missing Values\n",
    "imp = SimpleImputer(missing_values=np.nan, strategy='mean')\n",
    "x_imputed = imp.fit_transform(x_np)"
   ]
  },
  {
   "cell_type": "code",
   "execution_count": null,
   "id": "ad9606aa",
   "metadata": {},
   "outputs": [],
   "source": []
  },
  {
   "cell_type": "code",
   "execution_count": null,
   "id": "dba9daa9",
   "metadata": {},
   "outputs": [],
   "source": [
    "#Label Encode Y Values\n",
    "label_encoder = LabelEncoder()\n",
    "y_encoded = label_encoder.fit_transform(y_np)"
   ]
  },
  {
   "cell_type": "code",
   "execution_count": null,
   "id": "9743117a",
   "metadata": {},
   "outputs": [],
   "source": [
    "smote = SMOTE(random_state=42)\n",
    "x_resampled, y_resampled = smote.fit_resample(x_np, y_encoded)"
   ]
  },
  {
   "cell_type": "code",
   "execution_count": null,
   "id": "2d0a7c1e",
   "metadata": {},
   "outputs": [],
   "source": [
    "#Split\n",
    "x_train, x_test, y_train, y_test = train_test_split(x_resampled, y_resampled, test_size=.33, random_state=42)"
   ]
  },
  {
   "cell_type": "code",
   "execution_count": null,
   "id": "b25b4e8a",
   "metadata": {},
   "outputs": [],
   "source": [
    "#Standardize\n",
    "scalar = StandardScaler()\n",
    "x_train_std = scalar.fit_transform(x_train)\n",
    "x_test_std = scalar.fit_transform(x_test)"
   ]
  },
  {
   "cell_type": "code",
   "execution_count": null,
   "id": "53d9462d",
   "metadata": {},
   "outputs": [],
   "source": [
    "#Create correlation matrix\n",
    "df_corr = pd.DataFrame(x_train_std, columns = x_columns)\n",
    "df_test = pd.DataFrame(x_test_std, columns = x_columns)\n",
    "drop_correlated = DropCorrelatedFeatures(threshold=0.7)"
   ]
  },
  {
   "cell_type": "code",
   "execution_count": null,
   "id": "bf72c464",
   "metadata": {},
   "outputs": [],
   "source": [
    "drop_correlated.fit(df_corr)\n",
    "final_df = drop_correlated.transform(df_corr)\n",
    "final_test = drop_correlated.transform(df_test)"
   ]
  },
  {
   "cell_type": "code",
   "execution_count": null,
   "id": "bd349401",
   "metadata": {},
   "outputs": [],
   "source": [
    "x_train_model = np.array(final_df)\n",
    "x_test_model = np.array(final_test)"
   ]
  },
  {
   "cell_type": "code",
   "execution_count": null,
   "id": "706d64b7",
   "metadata": {},
   "outputs": [],
   "source": [
    "param_grid = {\n",
    "        'C': [0.01, 0.1, 1, 10, 100],\n",
    "        'max_iter': [-1, 100, 1000, 5000],\n",
    "        'class_weight': ['balanced', None],\n",
    "}"
   ]
  },
  {
   "cell_type": "code",
   "execution_count": null,
   "id": "3e15f202",
   "metadata": {},
   "outputs": [],
   "source": [
    "\"\"\"\n",
    "grid_search = GridSearchCV(svm.SVC(kernel='linear'), param_grid, cv=5)\n",
    "grid_search.fit(x_train_std, y_train)\n",
    "print(\"Best parameters:\", grid_search.best_params_)\n",
    "\n",
    "\"\"\"\n",
    "#Linear SVM\n",
    "linear_svm = svm.SVC(C=100, class_weight='balanced', kernel='linear', decision_function_shape='ovr')\n",
    "linear_svm.fit(x_train_model, y_train)\n",
    "y_pred = linear_svm.predict(x_test_model)"
   ]
  },
  {
   "cell_type": "code",
   "execution_count": null,
   "id": "e7c10526",
   "metadata": {},
   "outputs": [],
   "source": [
    "print(classification_report(y_test, y_pred))"
   ]
  },
  {
   "cell_type": "code",
   "execution_count": null,
   "id": "5fd68198",
   "metadata": {},
   "outputs": [],
   "source": [
    "\"\"\"\n",
    "param_grid_rbf = {\n",
    "        'C': [0.1, 1, 10, 100],\n",
    "        'gamma': [.001, .01, .1, 1, 10]\n",
    "}\n",
    "\n",
    "grid_search = GridSearchCV(svm.SVC(kernel='rbf'), param_grid, cv=5, scoring='accuracy')\n",
    "grid_search.fit(x_train_std, y_train)\n",
    "print(\"Best parameters: \", grid_search.best_params_)\n",
    "\"\"\"\n",
    "#RBF SVM\n",
    "nonlinear_svm = svm.SVC(kernel='rbf', C=100, class_weight='balanced')\n",
    "nonlinear_svm.fit(x_train_model, y_train)"
   ]
  },
  {
   "cell_type": "code",
   "execution_count": null,
   "id": "c088f2b4",
   "metadata": {},
   "outputs": [],
   "source": [
    "y_pred_rbf = nonlinear_svm.predict(x_test_model)"
   ]
  },
  {
   "cell_type": "code",
   "execution_count": null,
   "id": "91bf8db7",
   "metadata": {},
   "outputs": [],
   "source": [
    "print(classification_report(y_test, y_pred_rbf))"
   ]
  },
  {
   "cell_type": "code",
   "execution_count": null,
   "id": "ed1a312d",
   "metadata": {},
   "outputs": [],
   "source": []
  },
  {
   "cell_type": "code",
   "execution_count": null,
   "id": "50279134",
   "metadata": {},
   "outputs": [],
   "source": []
  },
  {
   "cell_type": "code",
   "execution_count": null,
   "id": "88c7542c",
   "metadata": {},
   "outputs": [],
   "source": []
  }
 ],
 "metadata": {
  "jupytext": {
   "cell_metadata_filter": "-all",
   "main_language": "python",
   "notebook_metadata_filter": "-all"
  }
 },
 "nbformat": 4,
 "nbformat_minor": 5
}
